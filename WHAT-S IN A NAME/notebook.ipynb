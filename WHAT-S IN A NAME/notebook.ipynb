1. Introduction to Baby Names Data
What’s in a name? That which we call a rose, By any other name would smell as sweet.

In this project, we will explore a rich dataset of first names of babies born in the US, that spans a period of more than 100 years! This suprisingly simple dataset can help us uncover so many interesting stories, and that is exactly what we are going to be doing.

Let us start by reading the data.


# Import modules
import pandas as pd
​
# Read names into a dataframe: bnames
bnames = pd.read_csv('datasets/names.csv.gz')
print(bnames.head())
​
        name sex  births  year
0       Mary   F    7065  1880
1       Anna   F    2604  1880
2       Emma   F    2003  1880
3  Elizabeth   F    1939  1880
4     Minnie   F    1746  1880
2. Exploring Trends in Names
One of the first things we want to do is to understand naming trends. Let us start by figuring out the top five most popular male and female names for this decade (born 2011 and later). Do you want to make any guesses? Go on, be a sport!!


# bnames_top5: A dataframe with top 5 popular male and female names for the decade
bnames_2011 = bnames.loc[bnames['year'] > 2010]
print('\nfiltered data\n')
print(bnames_2011.head(10))
​
bnames_2011_agg = bnames_2011.\
    groupby(['sex','name'], as_index = False)['births'].\
    sum()
​
print('\ngrouped by sex and name data with summed births for the period\n')
print(bnames_2011_agg.head(10))
​
bnames_top = bnames_2011_agg.\
    sort_values(['sex','births'], ascending = [True, False]).\
    groupby('name').\
    head().\
    reset_index(drop = True)
    
print('\nsorted by sex and births and grouped by name data\n')
print(bnames_top.head(10))
​
print('\ntop 5 names for both sexes\n')
bnames_top5 = bnames_top.loc[bnames_top['sex'] == 'F'].head(5).append(bnames_top.loc[bnames_top['sex'] == 'M'].head(5))
print(bnames_top5)

filtered data

             name sex  births  year
1691896    Sophia   F   21833  2011
1691897  Isabella   F   19891  2011
1691898      Emma   F   18791  2011
1691899    Olivia   F   17315  2011
1691900       Ava   F   15491  2011
1691901     Emily   F   14247  2011
1691902   Abigail   F   13245  2011
1691903   Madison   F   12374  2011
1691904       Mia   F   11525  2011
1691905     Chloe   F   10983  2011

grouped by sex and name data with summed births for the period

  sex       name  births
0   F      Aabha      35
1   F  Aabriella      21
2   F       Aada       5
3   F    Aadhira      51
4   F   Aadhvika       9
5   F     Aadhya    1132
6   F       Aadi      11
7   F    Aadison       5
8   F    Aaditri      32
9   F    Aadrika      19

sorted by sex and births and grouped by name data

  sex       name  births
0   F       Emma  121375
1   F     Sophia  117352
2   F     Olivia  111691
3   F   Isabella  103947
4   F        Ava   94507
5   F        Mia   79416
6   F      Emily   76327
7   F    Abigail   74470
8   F    Madison   63697
9   F  Elizabeth   57962

top 5 names for both sexes

      sex      name  births
0       F      Emma  121375
1       F    Sophia  117352
2       F    Olivia  111691
3       F  Isabella  103947
4       F       Ava   94507
30195   M      Noah  110280
30196   M     Mason  105104
30197   M     Jacob  104722
30198   M      Liam  103250
30199   M   William   99144
3. Proportion of Births
While the number of births is a useful metric, making comparisons across years becomes difficult, as one would have to control for population effects. One way around this is to normalize the number of births by the total number of births in that year.


bnames2 = bnames.copy()
# Compute the proportion of births by year and add it as a new column
# -- YOUR CODE HERE --
total_births_by_year = bnames2.\
    groupby('year')['births'].\
    transform('sum')
    
bnames2['prop_births'] = bnames2['births'] / total_births_by_year
print(bnames2.head())
        name sex  births  year  prop_births
0       Mary   F    7065  1880     0.035065
1       Anna   F    2604  1880     0.012924
2       Emma   F    2003  1880     0.009941
3  Elizabeth   F    1939  1880     0.009624
4     Minnie   F    1746  1880     0.008666
4. Popularity of Names
Now that we have the proportion of births, let us plot the popularity of a name through the years. How about plotting the popularity of the female names Elizabeth, and Deneen, and inspecting the underlying trends for any interesting patterns!


# Set up matplotlib for plotting in the notebook.
%matplotlib inline
import matplotlib.pyplot as plt
​
def plot_trends(name, sex):
  # -- YOUR CODE HERE --
  bnames2.loc[(bnames2['sex'] == sex) & (bnames2['name']==name)]['births'].plot(subplots=True)
  plt.show()
  return name
​
# Plot trends for Elizabeth and Deneen 
# -- YOUR CODE HERE --
plot_trends('Elizabeth','F')
plot_trends('Deneen','F')
​
# How many times did these female names peak?
num_peaks_elizabeth = 3
num_peaks_deneen    = 1


5. Trendy vs. Stable Names
Based on the plots we created earlier, we can see that Elizabeth is a fairly stable name, while Deneen is not. An interesting question to ask would be what are the top 5 stable and top 5 trendiest names. A stable name is one whose proportion across years does not vary drastically, while a trendy name is one whose popularity peaks for a short period and then dies down.

There are many ways to measure trendiness. A simple measure would be to look at the maximum proportion of births for a name, normalized by the sume of proportion of births across years. For example, if the name Joe had the proportions 0.1, 0.2, 0.1, 0.1, then the trendiness measure would be 0.2/(0.1 + 0.2 + 0.1 + 0.1) which equals 0.5.

Let us use this idea to figure out the top 10 trendy names in this data set, with at least a 1000 births.


# top10_trendy_names | A Data Frame of the top 10 most trendy names
names = pd.DataFrame()
name_and_sex_grouped = bnames.groupby(['name', 'sex'])
names['total'] = name_and_sex_grouped['births'].sum()
names['max'] =name_and_sex_grouped['births'].max()
names['trendiness'] = names['max']/names['total']
top10_trendy_names = names.loc[names['total'] > 1000].sort_values('trendiness', ascending=False).head(10).reset_index()
print(top10_trendy_names)
       name sex  total   max  trendiness
0  Christop   M   1082  1082    1.000000
1   Royalty   F   1057   581    0.549669
2     Kizzy   F   2325  1116    0.480000
3    Aitana   F   1203   564    0.468828
4    Deneen   F   3602  1604    0.445308
5    Moesha   F   1067   426    0.399250
6    Marely   F   2527  1004    0.397309
7     Kanye   M   1304   507    0.388804
8  Tennille   F   2172   769    0.354052
9   Kadijah   F   1411   486    0.344437
6. Bring in Mortality Data
So, what more is in a name? Well, with some further work, it is possible to predict the age of a person based on the name (Whoa! Really????). For this, we will need actuarial data that can tell us the chances that someone is still alive, based on when they were born. Fortunately, the SSA provides detailed actuarial life tables by birth cohorts.

year	age	qx	lx	dx	Lx	Tx	ex	sex
1910	39	0.00283	78275	222	78164	3129636	39.98	F
1910	40	0.00297	78053	232	77937	3051472	39.09	F
1910	41	0.00318	77821	248	77697	2973535	38.21	F
1910	42	0.00332	77573	257	77444	2895838	37.33	F
1910	43	0.00346	77316	268	77182	2818394	36.45	F
1910	44	0.00351	77048	270	76913	2741212	35.58	F
You can read the documentation for the lifetables to understand what the different columns mean. The key column of interest to us is lx, which provides the number of people born in a year who live upto a given age. The probability of being alive can be derived as lx by 100,000.

Given that 2016 is the latest year in the baby names dataset, we are interested only in a subset of this data, that will help us answer the question, "What percentage of people born in Year X are still alive in 2016?"

Let us use this data and plot it to get a sense of the mortality distribution!


# Read lifetables from datasets/lifetables.csv
lifetables =  pd.read_csv('datasets/lifetables.csv')
print(lifetables.head())
# Extract subset relevant to those alive in 2016
lifetables_2016  =lifetables.loc[(lifetables['year']+lifetables['age'])==2016]
lifetables_2016.head()
# Plot the mortality distribution: year vs. lx
lifetables_2016.plot(x='year', y='lx')
plt.show()
   year  age       qx        lx      dx      Lx         Tx     ex sex
0  1900    0  0.14596  100000.0  14,596  90,026  5,151,511  51.52   M
1  1900    1  0.03282   85404.0   2,803  84,003  5,061,484  59.26   M
2  1900    2  0.01634   82601.0   1,350  81,926  4,977,482  60.26   M
3  1900    3  0.01052   81251.0     855  80,824  4,895,556  60.25   M
4  1900    4  0.00875   80397.0     703  80,045  4,814,732  59.89   M

7. Smoothen the Curve!
We are almost there. There is just one small glitch. The cohort life tables are provided only for every decade. In order to figure out the distribution of people alive, we need the probabilities for every year. One way to fill up the gaps in the data is to use some kind of interpolation. Let us keep things simple and use linear interpolation to fill out the gaps in values of lx, between the years 1900 and 2016.


# Create smoothened lifetable_2016_s by interpolating values of lx
import numpy as np
year = np.arange(1900, 2016)
mf = {"M": pd.DataFrame(), "F": pd.DataFrame()}
for sex in ["M", "F"]:
    print(sex)
    d = lifetables_2016[lifetables_2016['sex'] == sex][["year", "lx"]]
    mf[sex] = d.set_index('year').reindex(year).interpolate().reset_index()
    mf[sex]['sex'] = sex
    
lifetable_2016_s = pd.concat(mf, ignore_index = True)
M
F
8. Distribution of People Alive by Name
Now that we have all the required data, we need a few helper functions to help us with our analysis.

The first function we will write is get_data,which takes name and sex as inputs and returns a data frame with the distribution of number of births and number of people alive by year.

The second function is plot_name which accepts the same arguments as get_data, but returns a line plot of the distribution of number of births, overlaid by an area plot of the number alive by year.

Using these functions, we will plot the distribution of births for boys named Joseph and girls named Brittany.


def get_data(name, sex):
    # YOUR CODE HERE
    name_sex = ((bnames['name'] == name) & 
                (bnames['sex'] == sex))
    data = bnames[name_sex].merge(lifetable_2016_s)
    data['n_alive'] = data['lx']/(10**5)*data['births']
    return data
    
​
def plot_data(name, sex):
    # YOUR CODE HERE
    fig, ax = plt.subplots()
    dat = get_data(name, sex)
    dat.plot(x = 'year', y = 'births', ax = ax, 
               color = 'black')
    dat.plot(x = 'year', y = 'n_alive', 
              kind = 'area', ax = ax, 
              color = 'steelblue', alpha = 0.8)
    ax.set_xlim(1900, 2016)
    return 
    
# Plot the distribution of births and number alive for Joseph and Brittany
plot_data("Joseph", "M")
plot_data("Brittany","F")


9. Estimate Age
In this section, we want to figure out the probability that a person with a certain name is alive, as well as the quantiles of their age distribution. In particular, we will estimate the age of a female named Gertrude. Any guesses on how old a person with this name is? How about a male named William?


# Import modules
from wquantiles import quantile
​
# Function to estimate age quantiles
def estimate_age(name, sex):
    # YOUR CODE HERE
    data = get_data(name, sex)
    qs = [0.75, 0.5, 0.25]
    quantiles = [2016 - int(quantile(data.year, data.n_alive, q)) for q in qs]
    result = dict(zip(['q25', 'q50', 'q75'], quantiles))
    result['p_alive'] = round(data.n_alive.sum()/data.births.sum() * 100, 2)
    result['sex'] = sex
    result['name'] = name
    return pd.Series(result)
​
# Estimate the age of Gertrude
estimate_age('Gertrude', 'F')
name       Gertrude
p_alive       18.73
q25              70
q50              80
q75              89
sex               F
dtype: object
10. Median Age of Top 10 Female Names
In the previous section, we estimated the age of a female named Gertrude. Let's go one step further this time, and compute the 25th, 50th and 75th percentiles of age, and the probability of being alive for the top 10 most common female names of all time. This should give us some interesting insights on how these names stack up in terms of median ages!


# Create median_ages: DataFrame with Top 10 Female names, 
#    age percentiles and probability of being alive
# -- YOUR CODE HERE --
top_10_female_names = bnames.groupby(['name', 'sex'], as_index = False).agg({'births': np.sum}).\
sort_values('births', ascending = False).\
query('sex == "F"').\
head(10).\
reset_index(drop = True)
print(top_10_female_names)
data_list=[]
​
estimates = pd.concat([estimate_age(name, 'F') for name in top_10_female_names.name], axis = 1)
median_ages = estimates.T.sort_values('q50').reset_index(drop = True)
        name sex   births
0       Mary   F  4120692
1  Elizabeth   F  1620611
2   Patricia   F  1571380
3   Jennifer   F  1465243
4      Linda   F  1451809
5    Barbara   F  1433727
6   Margaret   F  1244388
7      Susan   F  1121148
8    Dorothy   F  1106575
9      Sarah   F  1069797
